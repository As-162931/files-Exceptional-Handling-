{
 "cells": [
  {
   "cell_type": "markdown",
   "id": "9b8fa211-955e-4c7d-9dfe-3866d17c48cf",
   "metadata": {},
   "source": [
    "1. Difference Between Interpreted and Compiled Languages\n",
    "\n",
    "Interpreted Languages: Code is executed line by line by an interpreter at runtime (e.g., Python, JavaScript).\n",
    "\n",
    "Compiled Languages: Code is converted into machine code before execution using a compiler (e.g., C, C++).\n",
    "\n",
    "\n",
    "2. Exception Handling in Python\n",
    "\n",
    "Exception handling allows programs to catch and manage runtime errors using try, except, finally, and else blocks.\n",
    "\n",
    "Exm:\n",
    "\n",
    "try:\n",
    "    x = 10 / 0\n",
    "except ZeroDivisionError:\n",
    "    print(\"Cannot divide by zero!\")\n",
    "\n",
    "\n",
    "3. Purpose of the finally Block\n",
    "\n",
    "The finally block is executed regardless of whether an exception occurs or not. It is useful for cleanup actions.\n",
    "\n",
    "Exm:\n",
    "\n",
    "try:\n",
    "    file = open(\"data.txt\", \"r\")\n",
    "except FileNotFoundError:\n",
    "    print(\"File not found\")\n",
    "finally:\n",
    "    file.close()  \n",
    "\n",
    "\n",
    "4. Logging in Python\n",
    "\n",
    "Logging is used to track events in a program for debugging or auditing purposes using the logging module.\n",
    "\n",
    "Exm:\n",
    "\n",
    "import logging\n",
    "logging.basicConfig(level=logging.INFO)\n",
    "logging.info(\"This is an info message\")\n",
    "\n",
    "\n",
    "5. Significance of _del_ Method\n",
    "\n",
    "The _del_ method is a destructor that is called when an object is about to be destroyed.\n",
    "\n",
    "Exm:\n",
    "\n",
    "class Example:\n",
    "    def _del_(self):\n",
    "        print(\"Object is being deleted\")\n",
    "\n",
    "obj = Example()\n",
    "del obj  \n",
    "\n",
    "\n",
    "6. Difference Between import and from ... import\n",
    "\n",
    "import module_name imports the whole module.\n",
    "\n",
    "from module_name import function_name imports only specific functions or classes.\n",
    "\n",
    "\n",
    "Exm:\n",
    "\n",
    "import math\n",
    "print(math.sqrt(16))\n",
    "\n",
    "from math import sqrt\n",
    "print(sqrt(16))\n",
    "\n",
    "\n",
    "7. Handling Multiple Exceptions\n",
    "\n",
    "Use multiple except blocks or a tuple:\n",
    "\n",
    "try:\n",
    "    x = 10 / 0\n",
    "except ZeroDivisionError:\n",
    "    print(\"Division by zero\")\n",
    "except ValueError:\n",
    "    print(\"Invalid value\")\n",
    "\n",
    "or\n",
    "\n",
    "try:\n",
    "    x = int(\"text\")\n",
    "except (ZeroDivisionError, ValueError) as e:\n",
    "    print(\"An error occurred:\", e)\n",
    "\n",
    "\n",
    "8. Purpose of with Statement in File Handling\n",
    "\n",
    "The with statement ensures a file is closed automatically.\n",
    "\n",
    "\n",
    "Exm:\n",
    "\n",
    "with open(\"file.txt\", \"r\") as file:\n",
    "    content = file.read()\n",
    "\n",
    "\n",
    "9. Difference Between Multithreading and Multiprocessing\n",
    "\n",
    "Multithreading: Runs multiple threads in the same process (shared memory).\n",
    "\n",
    "Multiprocessing: Runs multiple processes (separate memory space).\n",
    "\n",
    "Exm:\n",
    "\n",
    "from threading import Thread\n",
    "from multiprocessing import Process\n",
    "\n",
    "def task():\n",
    "    print(\"Task executed\")\n",
    "\n",
    "thread = Thread(target=task)\n",
    "process = Process(target=task)\n",
    "\n",
    "thread.start()\n",
    "process.start()\n",
    "\n",
    "\n",
    "10. Advantages of Logging\n",
    "\n",
    "Debugging\n",
    "\n",
    "Monitoring\n",
    "\n",
    "Error tracking\n",
    "\n",
    "Security auditing\n",
    "\n",
    "\n",
    "\n",
    "11. Memory Management in Python\n",
    "\n",
    "Uses automatic garbage collection.\n",
    "\n",
    "Memory is managed using reference counting and cyclic garbage collection.\n",
    "\n",
    "\n",
    "\n",
    "12. Steps in Exception Handling\n",
    "\n",
    "A. Use try block to test code.\n",
    "\n",
    "\n",
    "B. Use except to handle exceptions.\n",
    "\n",
    "\n",
    "C. Use finally for cleanup.\n",
    "\n",
    "\n",
    "\n",
    "\n",
    "13. Importance of Memory Management\n",
    "\n",
    "Prevents memory leaks.\n",
    "\n",
    "Optimizes performance.\n",
    "\n",
    "Manages object lifetimes efficiently.\n",
    "\n",
    "\n",
    "\n",
    "14. Role of try and except\n",
    "\n",
    "try: Contains code that might cause an exception.\n",
    "\n",
    "except: Handles exceptions.\n",
    "\n",
    "Exm:\n",
    "\n",
    "try:\n",
    "    print(1 / 0)\n",
    "except ZeroDivisionError:\n",
    "    print(\"Error: Division by zero\")\n",
    "\n",
    "\n",
    "15. How Python's Garbage Collection Works\n",
    "\n",
    "Uses reference counting and cyclic garbage collector to free unused objects.\n",
    "\n",
    "Exm:\n",
    "\n",
    "import gc\n",
    "gc.collect()  \n",
    "\n",
    "\n",
    "16. Purpose of else in Exception Handling\n",
    "\n",
    "The else block runs if no exceptions occur.\n",
    "\n",
    "Exm:\n",
    "\n",
    "try:\n",
    "    print(\"No error\")\n",
    "except:\n",
    "    print(\"Error occurred\")\n",
    "else:\n",
    "    print(\"Executed if no exception\")\n",
    "\n",
    "\n",
    "17. Common Logging Levels\n",
    "\n",
    "A. DEBUG\n",
    "\n",
    "\n",
    "B. INFO\n",
    "\n",
    "\n",
    "C. WARNING\n",
    "\n",
    "\n",
    "D. ERROR\n",
    "\n",
    "\n",
    "E. CRITICAL\n",
    "\n",
    "\n",
    "\n",
    "18. Difference Between os.fork() and multiprocessing\n",
    "\n",
    "os.fork(): Creates a child process by duplicating the parent (Unix only).\n",
    "\n",
    "multiprocessing: Works cross-platform and provides better control.\n",
    "\n",
    "Exm:\n",
    "\n",
    "import os\n",
    "\n",
    "if os.fork() == 0:\n",
    "    print(\"Child process\")\n",
    "else:\n",
    "    print(\"Parent process\")\n",
    "\n",
    "\n",
    "19. Importance of Closing a File\n",
    "\n",
    "Prevents memory leaks.\n",
    "\n",
    "Ensures data is written properly.\n",
    "\n",
    "\n",
    "Exm:\n",
    "\n",
    "file = open(\"data.txt\", \"w\")\n",
    "file.close()\n",
    "\n",
    "\n",
    "20. Difference Between file.read() and file.readline()\n",
    "\n",
    "file.read(): Reads the whole file.\n",
    "\n",
    "file.readline(): Reads a single line.\n",
    "\n",
    "Exm:\n",
    "\n",
    "with open(\"data.txt\", \"r\") as file:\n",
    "    print(file.read())  # Reads all content\n",
    "    print(file.readline())  # Reads one line\n",
    "\n",
    "\n",
    "21. Purpose of logging Module\n",
    "\n",
    "Used to log messages for debugging and tracking.\n",
    "\n",
    "\n",
    "\n",
    "22. os Module in File Handling\n",
    "\n",
    "Provides functions to interact with the file system.\n",
    "\n",
    "\n",
    "Exm:\n",
    "\n",
    "import os\n",
    "print(os.listdir())  \n",
    "\n",
    "\n",
    "23. Challenges in Memory Management\n",
    "\n",
    "Memory fragmentation.\n",
    "\n",
    "Circular references.\n",
    "\n",
    "Large object allocation.\n",
    "\n",
    "\n",
    "\n",
    "24. Raising an Exception Manually\n",
    "\n",
    "Use raise keyword.\n",
    "\n",
    "Exm:\n",
    "\n",
    "raise ValueError(\"This is an error\")\n",
    "\n",
    "\n",
    "25. Importance of Multithreading\n",
    "\n",
    "Improves performance in I/O-bound tasks.\n",
    "\n",
    "Reduces waiting time for network/file operations.\n",
    "\n",
    "\n",
    "Exm:\n",
    "\n",
    "from threading import Thread\n",
    "\n",
    "def task():\n",
    "    print(\"Running in a thread\")\n",
    "\n",
    "thread = Thread(target=task)\n",
    "thread.start()\n",
    "\n",
    "\n"
   ]
  },
  {
   "cell_type": "code",
   "execution_count": 1,
   "id": "60ff4a68-487f-4bdc-9a57-5f10fd46313e",
   "metadata": {},
   "outputs": [],
   "source": [
    "#PRACTICAL QUESTION'S ANSWER"
   ]
  },
  {
   "cell_type": "code",
   "execution_count": 2,
   "id": "abf6a67f-bd1a-4201-bc44-eaf35a44fc4b",
   "metadata": {},
   "outputs": [],
   "source": [
    "#1\n",
    "with open(\"example.txt\", \"w\") as file:\n",
    "    file.write(\"Hello, World!\")\n"
   ]
  },
  {
   "cell_type": "code",
   "execution_count": 3,
   "id": "bf0ab317-025e-4a66-91a2-4f1a850c22d5",
   "metadata": {},
   "outputs": [
    {
     "name": "stdout",
     "output_type": "stream",
     "text": [
      "Hello, World!\n"
     ]
    }
   ],
   "source": [
    "#2\n",
    "with open(\"example.txt\", \"r\") as file:\n",
    "    for line in file:\n",
    "        print(line.strip())\n"
   ]
  },
  {
   "cell_type": "code",
   "execution_count": 4,
   "id": "4a133e0c-9256-4e08-b5bd-9b73a8351d9c",
   "metadata": {},
   "outputs": [
    {
     "name": "stdout",
     "output_type": "stream",
     "text": [
      "File not found.\n"
     ]
    }
   ],
   "source": [
    "#3\n",
    "try:\n",
    "    with open(\"nonexistent.txt\", \"r\") as file:\n",
    "        print(file.read())\n",
    "except FileNotFoundError:\n",
    "    print(\"File not found.\")\n"
   ]
  },
  {
   "cell_type": "code",
   "execution_count": 5,
   "id": "6a39497c-3d4d-49fd-99b9-a2e86974965a",
   "metadata": {},
   "outputs": [
    {
     "ename": "FileNotFoundError",
     "evalue": "[Errno 2] No such file or directory: 'source.txt'",
     "output_type": "error",
     "traceback": [
      "\u001b[1;31m---------------------------------------------------------------------------\u001b[0m",
      "\u001b[1;31mFileNotFoundError\u001b[0m                         Traceback (most recent call last)",
      "Cell \u001b[1;32mIn[5], line 2\u001b[0m\n\u001b[0;32m      1\u001b[0m \u001b[38;5;66;03m#4\u001b[39;00m\n\u001b[1;32m----> 2\u001b[0m \u001b[38;5;28;01mwith\u001b[39;00m \u001b[38;5;28;43mopen\u001b[39;49m\u001b[43m(\u001b[49m\u001b[38;5;124;43m\"\u001b[39;49m\u001b[38;5;124;43msource.txt\u001b[39;49m\u001b[38;5;124;43m\"\u001b[39;49m\u001b[43m,\u001b[49m\u001b[43m \u001b[49m\u001b[38;5;124;43m\"\u001b[39;49m\u001b[38;5;124;43mr\u001b[39;49m\u001b[38;5;124;43m\"\u001b[39;49m\u001b[43m)\u001b[49m \u001b[38;5;28;01mas\u001b[39;00m src, \u001b[38;5;28mopen\u001b[39m(\u001b[38;5;124m\"\u001b[39m\u001b[38;5;124mdestination.txt\u001b[39m\u001b[38;5;124m\"\u001b[39m, \u001b[38;5;124m\"\u001b[39m\u001b[38;5;124mw\u001b[39m\u001b[38;5;124m\"\u001b[39m) \u001b[38;5;28;01mas\u001b[39;00m dest:\n\u001b[0;32m      3\u001b[0m     dest\u001b[38;5;241m.\u001b[39mwrite(src\u001b[38;5;241m.\u001b[39mread())\n",
      "File \u001b[1;32m~\\AppData\\Local\\Programs\\Python\\Python313\\Lib\\site-packages\\IPython\\core\\interactiveshell.py:324\u001b[0m, in \u001b[0;36m_modified_open\u001b[1;34m(file, *args, **kwargs)\u001b[0m\n\u001b[0;32m    317\u001b[0m \u001b[38;5;28;01mif\u001b[39;00m file \u001b[38;5;129;01min\u001b[39;00m {\u001b[38;5;241m0\u001b[39m, \u001b[38;5;241m1\u001b[39m, \u001b[38;5;241m2\u001b[39m}:\n\u001b[0;32m    318\u001b[0m     \u001b[38;5;28;01mraise\u001b[39;00m \u001b[38;5;167;01mValueError\u001b[39;00m(\n\u001b[0;32m    319\u001b[0m         \u001b[38;5;124mf\u001b[39m\u001b[38;5;124m\"\u001b[39m\u001b[38;5;124mIPython won\u001b[39m\u001b[38;5;124m'\u001b[39m\u001b[38;5;124mt let you open fd=\u001b[39m\u001b[38;5;132;01m{\u001b[39;00mfile\u001b[38;5;132;01m}\u001b[39;00m\u001b[38;5;124m by default \u001b[39m\u001b[38;5;124m\"\u001b[39m\n\u001b[0;32m    320\u001b[0m         \u001b[38;5;124m\"\u001b[39m\u001b[38;5;124mas it is likely to crash IPython. If you know what you are doing, \u001b[39m\u001b[38;5;124m\"\u001b[39m\n\u001b[0;32m    321\u001b[0m         \u001b[38;5;124m\"\u001b[39m\u001b[38;5;124myou can use builtins\u001b[39m\u001b[38;5;124m'\u001b[39m\u001b[38;5;124m open.\u001b[39m\u001b[38;5;124m\"\u001b[39m\n\u001b[0;32m    322\u001b[0m     )\n\u001b[1;32m--> 324\u001b[0m \u001b[38;5;28;01mreturn\u001b[39;00m \u001b[43mio_open\u001b[49m\u001b[43m(\u001b[49m\u001b[43mfile\u001b[49m\u001b[43m,\u001b[49m\u001b[43m \u001b[49m\u001b[38;5;241;43m*\u001b[39;49m\u001b[43margs\u001b[49m\u001b[43m,\u001b[49m\u001b[43m \u001b[49m\u001b[38;5;241;43m*\u001b[39;49m\u001b[38;5;241;43m*\u001b[39;49m\u001b[43mkwargs\u001b[49m\u001b[43m)\u001b[49m\n",
      "\u001b[1;31mFileNotFoundError\u001b[0m: [Errno 2] No such file or directory: 'source.txt'"
     ]
    }
   ],
   "source": [
    "#4\n",
    "with open(\"source.txt\", \"r\") as src, open(\"destination.txt\", \"w\") as dest:\n",
    "    dest.write(src.read())\n"
   ]
  },
  {
   "cell_type": "code",
   "execution_count": 6,
   "id": "8b8ff16f-f763-47c8-8c43-837f2cae1500",
   "metadata": {},
   "outputs": [
    {
     "name": "stdout",
     "output_type": "stream",
     "text": [
      "Cannot divide by zero.\n"
     ]
    }
   ],
   "source": [
    "#5\n",
    "try:\n",
    "    result = 10 / 0\n",
    "except ZeroDivisionError:\n",
    "    print(\"Cannot divide by zero.\")\n"
   ]
  },
  {
   "cell_type": "code",
   "execution_count": 7,
   "id": "14c461a7-f98c-4423-bd94-ad3882112636",
   "metadata": {},
   "outputs": [],
   "source": [
    "#6\n",
    "import logging\n",
    "\n",
    "logging.basicConfig(filename=\"errors.log\", level=logging.ERROR)\n",
    "\n",
    "try:\n",
    "    result = 10 / 0\n",
    "except ZeroDivisionError:\n",
    "    logging.error(\"Division by zero error occurred.\")\n"
   ]
  },
  {
   "cell_type": "code",
   "execution_count": 8,
   "id": "94a823cd-5ec1-4aea-822f-b37abe158795",
   "metadata": {},
   "outputs": [],
   "source": [
    "#7\n",
    "import logging\n",
    "\n",
    "logging.basicConfig(level=logging.DEBUG)\n",
    "\n",
    "logging.info(\"This is an info message.\")\n",
    "logging.warning(\"This is a warning message.\")\n",
    "logging.error(\"This is an error message.\")\n"
   ]
  },
  {
   "cell_type": "code",
   "execution_count": 9,
   "id": "fe342edc-7557-47b5-a5b3-fa704f04049c",
   "metadata": {},
   "outputs": [
    {
     "name": "stdout",
     "output_type": "stream",
     "text": [
      "File not found.\n"
     ]
    }
   ],
   "source": [
    "#8\n",
    "try:\n",
    "    with open(\"nonexistent.txt\", \"r\") as file:\n",
    "        content = file.read()\n",
    "except FileNotFoundError:\n",
    "    print(\"File not found.\")\n"
   ]
  },
  {
   "cell_type": "code",
   "execution_count": 10,
   "id": "f11dd40f-74f4-4632-a5c4-665a95c0b55f",
   "metadata": {},
   "outputs": [
    {
     "name": "stdout",
     "output_type": "stream",
     "text": [
      "['Hello, World!']\n"
     ]
    }
   ],
   "source": [
    "#9\n",
    "with open(\"example.txt\", \"r\") as file:\n",
    "    lines = [line.strip() for line in file]\n",
    "print(lines)\n"
   ]
  },
  {
   "cell_type": "code",
   "execution_count": 11,
   "id": "db43c5e6-a087-43f5-a0de-236bf97b628b",
   "metadata": {},
   "outputs": [],
   "source": [
    "#10\n",
    "with open(\"example.txt\", \"a\") as file:\n",
    "    file.write(\"\\nAdditional content.\")\n"
   ]
  },
  {
   "cell_type": "code",
   "execution_count": 12,
   "id": "6c707ba7-3cd3-4e74-b5f4-c8794cd19c76",
   "metadata": {},
   "outputs": [
    {
     "name": "stdout",
     "output_type": "stream",
     "text": [
      "Key not found.\n"
     ]
    }
   ],
   "source": [
    "#11\n",
    "my_dict = {\"a\": 1, \"b\": 2}\n",
    "\n",
    "try:\n",
    "    value = my_dict[\"c\"]\n",
    "except KeyError:\n",
    "    print(\"Key not found.\")\n"
   ]
  },
  {
   "cell_type": "code",
   "execution_count": 13,
   "id": "3782cb5d-e7cf-4475-84c5-298bf8e2d09e",
   "metadata": {},
   "outputs": [
    {
     "name": "stdout",
     "output_type": "stream",
     "text": [
      "Cannot divide by zero.\n"
     ]
    }
   ],
   "source": [
    "#12\n",
    "try:\n",
    "    result = 10 / 0\n",
    "except ZeroDivisionError:\n",
    "    print(\"Cannot divide by zero.\")\n",
    "except ValueError:\n",
    "    print(\"Invalid value.\")\n"
   ]
  },
  {
   "cell_type": "code",
   "execution_count": 14,
   "id": "ffa6bb24-7038-4b00-b567-8918ecf90d54",
   "metadata": {},
   "outputs": [],
   "source": [
    "#13\n",
    "import os\n",
    "\n",
    "if os.path.exists(\"example.txt\"):\n",
    "    with open(\"example.txt\", \"r\") as file:\n",
    "        content = file.read()\n",
    "else:\n",
    "    print(\"File does not exist.\")\n"
   ]
  },
  {
   "cell_type": "code",
   "execution_count": 16,
   "id": "66370619-a61b-460d-82be-a5cda2be8511",
   "metadata": {},
   "outputs": [],
   "source": [
    "#14\n",
    "import logging\n",
    "\n",
    "logging.basicConfig(filename=\"app.log\", level=logging.DEBUG)\n",
    "\n",
    "logging.info(\"Application started.\")\n",
    "try:\n",
    "    result = 10 / 0\n",
    "except ZeroDivisionError:\n",
    "    logging.error(\"Division by zero error.\")\n"
   ]
  },
  {
   "cell_type": "code",
   "execution_count": 17,
   "id": "3e7005ca-333f-4cc7-aac0-124442aa1bbc",
   "metadata": {},
   "outputs": [
    {
     "name": "stdout",
     "output_type": "stream",
     "text": [
      "Hello, World!\n",
      "Additional content.\n"
     ]
    }
   ],
   "source": [
    "#15\n",
    "with open(\"example.txt\", \"r\") as file:\n",
    "    content = file.read().strip()\n",
    "    if not content:\n",
    "        print(\"File is empty.\")\n",
    "    else:\n",
    "        print(content)\n",
    "\n"
   ]
  },
  {
   "cell_type": "code",
   "execution_count": 35,
   "id": "6db56cf2-c615-4a42-82a2-58bfa28ba625",
   "metadata": {},
   "outputs": [
    {
     "ename": "ModuleNotFoundError",
     "evalue": "No module named 'memory_profiler'",
     "output_type": "error",
     "traceback": [
      "\u001b[1;31m---------------------------------------------------------------------------\u001b[0m",
      "\u001b[1;31mModuleNotFoundError\u001b[0m                       Traceback (most recent call last)",
      "Cell \u001b[1;32mIn[35], line 2\u001b[0m\n\u001b[0;32m      1\u001b[0m \u001b[38;5;66;03m#16\u001b[39;00m\n\u001b[1;32m----> 2\u001b[0m \u001b[38;5;28;01mimport\u001b[39;00m \u001b[38;5;21;01mmemory_profiler\u001b[39;00m\n\u001b[0;32m      3\u001b[0m \u001b[38;5;28;01mdef\u001b[39;00m \u001b[38;5;21mcompute\u001b[39m():\n\u001b[0;32m      4\u001b[0m     numbers \u001b[38;5;241m=\u001b[39m [i \u001b[38;5;28;01mfor\u001b[39;00m i \u001b[38;5;129;01min\u001b[39;00m \u001b[38;5;28mrange\u001b[39m(\u001b[38;5;241m1000000\u001b[39m)]\n",
      "\u001b[1;31mModuleNotFoundError\u001b[0m: No module named 'memory_profiler'"
     ]
    }
   ],
   "source": [
    "#16\n",
    "import memory_profiler\n",
    "def compute():\n",
    "    numbers = [i for i in range(1000000)]\n",
    "    return sum(numbers)\n",
    "print(memory_profiler.memory_usage(proc = compute))"
   ]
  },
  {
   "cell_type": "code",
   "execution_count": 27,
   "id": "9e0c3064-d87b-46cd-830b-308d5f714200",
   "metadata": {},
   "outputs": [],
   "source": [
    "#17\n",
    "numbers = [1, 2, 3, 4, 5]\n",
    "\n",
    "with open(\"numbers.txt\", \"w\") as file:\n",
    "    for num in numbers:\n",
    "        file.write(f\"{num}\\n\")\n"
   ]
  },
  {
   "cell_type": "code",
   "execution_count": 28,
   "id": "ed9efde9-7377-49b6-a93c-0dd91ae859fd",
   "metadata": {},
   "outputs": [],
   "source": [
    "#18\n",
    "import logging\n",
    "from logging.handlers import RotatingFileHandler\n",
    "\n",
    "handler = RotatingFileHandler(\"app.log\", maxBytes=1_000_000, backupCount=3)\n",
    "logger = logging.getLogger()\n",
    "logger.addHandler(handler)\n",
    "logger.setLevel(logging.INFO)\n",
    "\n",
    "logger.info(\"Application started.\")\n"
   ]
  },
  {
   "cell_type": "code",
   "execution_count": 29,
   "id": "1968f1fc-09d2-4a4c-a448-8521112ac8b8",
   "metadata": {},
   "outputs": [
    {
     "name": "stdout",
     "output_type": "stream",
     "text": [
      "Index out of range.\n"
     ]
    }
   ],
   "source": [
    "#19\n",
    "try:\n",
    "    my_list = [1, 2, 3]\n",
    "    print(my_list[5])  # IndexError\n",
    "\n",
    "    my_dict = {\"a\": 1}\n",
    "    print(my_dict[\"b\"])  # KeyError\n",
    "except IndexError:\n",
    "    print(\"Index out of range.\")\n",
    "except KeyError:\n",
    "    print(\"Key not found.\")\n"
   ]
  },
  {
   "cell_type": "code",
   "execution_count": 30,
   "id": "6afc86db-a2a3-485d-aaaf-1c69604d6463",
   "metadata": {},
   "outputs": [
    {
     "name": "stdout",
     "output_type": "stream",
     "text": [
      "Hello, World!\n",
      "Additional content.\n"
     ]
    }
   ],
   "source": [
    "#20\n",
    "with open(\"example.txt\", \"r\") as file:\n",
    "    content = file.read()\n",
    "print(content)\n",
    "\n"
   ]
  },
  {
   "cell_type": "code",
   "execution_count": 31,
   "id": "850afb60-cdd1-4b6c-bb21-a69bae3920eb",
   "metadata": {},
   "outputs": [
    {
     "name": "stdout",
     "output_type": "stream",
     "text": [
      "Occurrences of 'example': 0\n"
     ]
    }
   ],
   "source": [
    "#21\n",
    "word_to_count = \"example\"\n",
    "\n",
    "with open(\"example.txt\", \"r\") as file:\n",
    "    content = file.read()\n",
    "\n",
    "count = content.lower().split().count(word_to_count.lower())\n",
    "print(f\"Occurrences of '{word_to_count}': {count}\")\n"
   ]
  },
  {
   "cell_type": "code",
   "execution_count": 32,
   "id": "d599f4be-d48d-492f-ab8e-987324c58e25",
   "metadata": {},
   "outputs": [
    {
     "name": "stdout",
     "output_type": "stream",
     "text": [
      "Hello, World!\n",
      "Additional content.\n"
     ]
    }
   ],
   "source": [
    "#22\n",
    "import os\n",
    "\n",
    "if os.path.exists(\"example.txt\") and os.path.getsize(\"example.txt\") > 0:\n",
    "    with open(\"example.txt\", \"r\") as file:\n",
    "        content = file.read()\n",
    "    print(content)\n",
    "else:\n",
    "    print(\"File is empty or does not exist.\")\n"
   ]
  },
  {
   "cell_type": "code",
   "execution_count": 33,
   "id": "74517c97-5741-424d-9005-9c654ba62c1d",
   "metadata": {},
   "outputs": [],
   "source": [
    "#23\n",
    "import logging\n",
    "\n",
    "logging.basicConfig(filename=\"file_errors.log\", level=logging.ERROR)\n",
    "\n",
    "try:\n",
    "    with open(\"nonexistent.txt\", \"r\") as file:\n",
    "        content = file.read()\n",
    "except FileNotFoundError:\n",
    "    logging.error(\"Attempted to open a non-existent file.\")\n"
   ]
  }
 ],
 "metadata": {
  "kernelspec": {
   "display_name": "Python 3 (ipykernel)",
   "language": "python",
   "name": "python3"
  },
  "language_info": {
   "codemirror_mode": {
    "name": "ipython",
    "version": 3
   },
   "file_extension": ".py",
   "mimetype": "text/x-python",
   "name": "python",
   "nbconvert_exporter": "python",
   "pygments_lexer": "ipython3",
   "version": "3.13.1"
  }
 },
 "nbformat": 4,
 "nbformat_minor": 5
}
